{
 "cells": [
  {
   "cell_type": "code",
   "execution_count": 1,
   "metadata": {},
   "outputs": [],
   "source": [
    "import requests\n",
    "import pandas as pd\n",
    "\n",
    "\n",
    "from utils import *\n"
   ]
  },
  {
   "cell_type": "code",
   "execution_count": 2,
   "metadata": {},
   "outputs": [
    {
     "name": "stdout",
     "output_type": "stream",
     "text": [
      "{'count': 10, 'list': [{'id': '05be503e-5103-4fca-8dec-d9c8fe7696fa', 'price': 3.2235706666e-08, 'total_amount': 3000000, 'value': 0.09670712, 'filled_amount': 0, 'status': 'open', 'collateral': 0.09670712, 'full_match': False, 'offer_type': 'buy', 'created_at': '2024-05-17T17:32:01.468Z', 'offer_index': 908, 'tx_hash': '0x776f62964d12816641ec92dd22904e6e5fb8c2f7082e4e781e1e81089481cfbb', 'token__id': '4602cc77-573d-4e86-b4f2-299718d7c091', 'token__settle_time': None, 'token__settle_duration': 86400, 'token__settle_type': 'system', 'token__address': None, 'token__decimals': None, 'token__pledge_rate': None, 'token__symbol': 'BLAST', 'token__name': 'Blast', 'token__icon': 'https://pbs.twimg.com/profile_images/1726739354700173312/OeT9Ef1J_400x400.jpg', 'token__type': 'pre_market', 'token__category': 'pre_market', 'token__status': 'active', 'token__unit': '{\"prefix_icon\":\"\",\"icon\":\"\",\"symbol\":\"\"}', 'ex_token__id': 'b96c3abe-15a1-49a5-b307-0e59ce45bf73', 'ex_token__name': 'Ethereum', 'ex_token__symbol': 'ETH', 'ex_token__icon': 'https://s2.coinmarketcap.com/static/img/coins/64x64/1027.png', 'ex_token__price': 3689.93, 'offer_by_user__address': '0x1ca323e658f4688996ba3ad73f1f9e6b13448cfc', 'network__chain_id': 81457, 'network__name': 'Blast', 'network__icon': 'https://pbs.twimg.com/profile_images/1726739354700173312/OeT9Ef1J_400x400.jpg', 'network__id': '4754df58-0565-4982-a18e-bd883fddf949', 'network__explorer_url': 'https://blastscan.io', 'formatted_status': 'open', 'formatted_status_offer': 'open', 'equivalent_total_amount': None, 'progress': 0, 'offer_price_usd': 0.00011894750110053331, 'offer_collateral_value': 356.84250330159995}, {'id': '15723d61-06bf-41df-8f6a-8b19389e1e68', 'price': 6.6358499999e-08, 'total_amount': 40000, 'value': 0.00265434, 'filled_amount': 0, 'status': 'open', 'collateral': 0.00265434, 'full_match': False, 'offer_type': 'buy', 'created_at': '2024-05-31T10:12:31.167Z', 'offer_index': 1035, 'tx_hash': '0x888c31b8cb41a10a371bf768bf7cb1d8d3dbde6158221c5e29ab1f703a11108c', 'token__id': '4602cc77-573d-4e86-b4f2-299718d7c091', 'token__settle_time': None, 'token__settle_duration': 86400, 'token__settle_type': 'system', 'token__address': None, 'token__decimals': None, 'token__pledge_rate': None, 'token__symbol': 'BLAST', 'token__name': 'Blast', 'token__icon': 'https://pbs.twimg.com/profile_images/1726739354700173312/OeT9Ef1J_400x400.jpg', 'token__type': 'pre_market', 'token__category': 'pre_market', 'token__status': 'active', 'token__unit': '{\"prefix_icon\":\"\",\"icon\":\"\",\"symbol\":\"\"}', 'ex_token__id': 'b96c3abe-15a1-49a5-b307-0e59ce45bf73', 'ex_token__name': 'Ethereum', 'ex_token__symbol': 'ETH', 'ex_token__icon': 'https://s2.coinmarketcap.com/static/img/coins/64x64/1027.png', 'ex_token__price': 3689.93, 'offer_by_user__address': '0x19326bc7fd94adcb6835b755ad10fff2255c172c', 'network__chain_id': 81457, 'network__name': 'Blast', 'network__icon': 'https://pbs.twimg.com/profile_images/1726739354700173312/OeT9Ef1J_400x400.jpg', 'network__id': '4754df58-0565-4982-a18e-bd883fddf949', 'network__explorer_url': 'https://blastscan.io', 'formatted_status': 'open', 'formatted_status_offer': 'open', 'equivalent_total_amount': None, 'progress': 0, 'offer_price_usd': 0.00024485821990499995, 'offer_collateral_value': 9.794328796199999}, {'id': '49a50b23-1c17-4a67-a197-756264f1af80', 'price': 3.25213e-06, 'total_amount': 1000, 'value': 0.00325213, 'filled_amount': 0, 'status': 'open', 'collateral': 0.00325213, 'full_match': False, 'offer_type': 'buy', 'created_at': '2024-05-19T15:19:01.469Z', 'offer_index': 942, 'tx_hash': '0xb4352a24d8b7a2dc383ec84a4489d4658684de1711287802374b4fcf8802bf50', 'token__id': '4602cc77-573d-4e86-b4f2-299718d7c091', 'token__settle_time': None, 'token__settle_duration': 86400, 'token__settle_type': 'system', 'token__address': None, 'token__decimals': None, 'token__pledge_rate': None, 'token__symbol': 'BLAST', 'token__name': 'Blast', 'token__icon': 'https://pbs.twimg.com/profile_images/1726739354700173312/OeT9Ef1J_400x400.jpg', 'token__type': 'pre_market', 'token__category': 'pre_market', 'token__status': 'active', 'token__unit': '{\"prefix_icon\":\"\",\"icon\":\"\",\"symbol\":\"\"}', 'ex_token__id': 'b96c3abe-15a1-49a5-b307-0e59ce45bf73', 'ex_token__name': 'Ethereum', 'ex_token__symbol': 'ETH', 'ex_token__icon': 'https://s2.coinmarketcap.com/static/img/coins/64x64/1027.png', 'ex_token__price': 3689.93, 'offer_by_user__address': '0xa08c71f11f14348c01dc21159a15077ba35e5e6b', 'network__chain_id': 81457, 'network__name': 'Blast', 'network__icon': 'https://pbs.twimg.com/profile_images/1726739354700173312/OeT9Ef1J_400x400.jpg', 'network__id': '4754df58-0565-4982-a18e-bd883fddf949', 'network__explorer_url': 'https://blastscan.io', 'formatted_status': 'open', 'formatted_status_offer': 'open', 'equivalent_total_amount': None, 'progress': 0, 'offer_price_usd': 0.0120001320509, 'offer_collateral_value': 12.0001320509}, {'id': '0bc3cb34-5ac0-473f-8822-40a5a3735535', 'price': 6.095066666666e-06, 'total_amount': 600, 'value': 0.00365704, 'filled_amount': 0, 'status': 'open', 'collateral': 0.00365704, 'full_match': True, 'offer_type': 'buy', 'created_at': '2024-05-18T17:10:31.570Z', 'offer_index': 921, 'tx_hash': '0xa5f54cb33d97043700c4c1f144771efbd50e8cf58495fcf405b4f6109a3a294a', 'token__id': '4602cc77-573d-4e86-b4f2-299718d7c091', 'token__settle_time': None, 'token__settle_duration': 86400, 'token__settle_type': 'system', 'token__address': None, 'token__decimals': None, 'token__pledge_rate': None, 'token__symbol': 'BLAST', 'token__name': 'Blast', 'token__icon': 'https://pbs.twimg.com/profile_images/1726739354700173312/OeT9Ef1J_400x400.jpg', 'token__type': 'pre_market', 'token__category': 'pre_market', 'token__status': 'active', 'token__unit': '{\"prefix_icon\":\"\",\"icon\":\"\",\"symbol\":\"\"}', 'ex_token__id': 'b96c3abe-15a1-49a5-b307-0e59ce45bf73', 'ex_token__name': 'Ethereum', 'ex_token__symbol': 'ETH', 'ex_token__icon': 'https://s2.coinmarketcap.com/static/img/coins/64x64/1027.png', 'ex_token__price': 3689.93, 'offer_by_user__address': '0x51fbf6e5e40d51a7c925d3c105a2e4ced067dc64', 'network__chain_id': 81457, 'network__name': 'Blast', 'network__icon': 'https://pbs.twimg.com/profile_images/1726739354700173312/OeT9Ef1J_400x400.jpg', 'network__id': '4754df58-0565-4982-a18e-bd883fddf949', 'network__explorer_url': 'https://blastscan.io', 'formatted_status': 'open', 'formatted_status_offer': 'open', 'equivalent_total_amount': None, 'progress': 0, 'offer_price_usd': 0.02249036934533333, 'offer_collateral_value': 13.494221607199998}, {'id': '720c04fb-652f-442b-bde4-c44281d0db57', 'price': 6.77894e-05, 'total_amount': 100, 'value': 0.00677894, 'filled_amount': 0, 'status': 'open', 'collateral': 0.00677894, 'full_match': False, 'offer_type': 'buy', 'created_at': '2024-06-07T22:31:31.310Z', 'offer_index': 1054, 'tx_hash': '0x34e162d7857a86dce1b7dc6028feffd5c018bc3cecf1e6d4c96cad444f014149', 'token__id': '4602cc77-573d-4e86-b4f2-299718d7c091', 'token__settle_time': None, 'token__settle_duration': 86400, 'token__settle_type': 'system', 'token__address': None, 'token__decimals': None, 'token__pledge_rate': None, 'token__symbol': 'BLAST', 'token__name': 'Blast', 'token__icon': 'https://pbs.twimg.com/profile_images/1726739354700173312/OeT9Ef1J_400x400.jpg', 'token__type': 'pre_market', 'token__category': 'pre_market', 'token__status': 'active', 'token__unit': '{\"prefix_icon\":\"\",\"icon\":\"\",\"symbol\":\"\"}', 'ex_token__id': 'b96c3abe-15a1-49a5-b307-0e59ce45bf73', 'ex_token__name': 'Ethereum', 'ex_token__symbol': 'ETH', 'ex_token__icon': 'https://s2.coinmarketcap.com/static/img/coins/64x64/1027.png', 'ex_token__price': 3689.93, 'offer_by_user__address': '0x301b623af819848371fee227c5ead1bdfc44f8aa', 'network__chain_id': 81457, 'network__name': 'Blast', 'network__icon': 'https://pbs.twimg.com/profile_images/1726739354700173312/OeT9Ef1J_400x400.jpg', 'network__id': '4754df58-0565-4982-a18e-bd883fddf949', 'network__explorer_url': 'https://blastscan.io', 'formatted_status': 'open', 'formatted_status_offer': 'open', 'equivalent_total_amount': None, 'progress': 0, 'offer_price_usd': 0.25013814074199997, 'offer_collateral_value': 25.0138140742}, {'id': '120bf7fb-845f-4c6d-b996-6da01df3a013', 'price': 0.000263786916666666, 'total_amount': 120, 'value': 0.03165443, 'filled_amount': 0, 'status': 'open', 'collateral': 0.03165443, 'full_match': False, 'offer_type': 'buy', 'created_at': '2024-05-25T19:55:01.468Z', 'offer_index': 1018, 'tx_hash': '0x0572ceb52c65d3f5254b7e753666647e40d363467ca6e032157e9dcd75664a90', 'token__id': '4602cc77-573d-4e86-b4f2-299718d7c091', 'token__settle_time': None, 'token__settle_duration': 86400, 'token__settle_type': 'system', 'token__address': None, 'token__decimals': None, 'token__pledge_rate': None, 'token__symbol': 'BLAST', 'token__name': 'Blast', 'token__icon': 'https://pbs.twimg.com/profile_images/1726739354700173312/OeT9Ef1J_400x400.jpg', 'token__type': 'pre_market', 'token__category': 'pre_market', 'token__status': 'active', 'token__unit': '{\"prefix_icon\":\"\",\"icon\":\"\",\"symbol\":\"\"}', 'ex_token__id': 'b96c3abe-15a1-49a5-b307-0e59ce45bf73', 'ex_token__name': 'Ethereum', 'ex_token__symbol': 'ETH', 'ex_token__icon': 'https://s2.coinmarketcap.com/static/img/coins/64x64/1027.png', 'ex_token__price': 3689.93, 'offer_by_user__address': '0x3ff1b7f329266fd0cfb00a3b577522dfbcf5d090', 'network__chain_id': 81457, 'network__name': 'Blast', 'network__icon': 'https://pbs.twimg.com/profile_images/1726739354700173312/OeT9Ef1J_400x400.jpg', 'network__id': '4754df58-0565-4982-a18e-bd883fddf949', 'network__explorer_url': 'https://blastscan.io', 'formatted_status': 'open', 'formatted_status_offer': 'open', 'equivalent_total_amount': None, 'progress': 0, 'offer_price_usd': 0.9733552574158332, 'offer_collateral_value': 116.80263088989999}, {'id': 'f14b7b95-77e9-494a-beba-305e88ec9016', 'price': 0.0003938951, 'total_amount': 100, 'value': 0.03938951, 'filled_amount': 0, 'status': 'open', 'collateral': 0.03938951, 'full_match': False, 'offer_type': 'buy', 'created_at': '2024-05-23T22:59:01.317Z', 'offer_index': 998, 'tx_hash': '0x0febab4cafeaf49b34c3bf36fcf67b07545b324b512205c64fb17213a22039ac', 'token__id': '4602cc77-573d-4e86-b4f2-299718d7c091', 'token__settle_time': None, 'token__settle_duration': 86400, 'token__settle_type': 'system', 'token__address': None, 'token__decimals': None, 'token__pledge_rate': None, 'token__symbol': 'BLAST', 'token__name': 'Blast', 'token__icon': 'https://pbs.twimg.com/profile_images/1726739354700173312/OeT9Ef1J_400x400.jpg', 'token__type': 'pre_market', 'token__category': 'pre_market', 'token__status': 'active', 'token__unit': '{\"prefix_icon\":\"\",\"icon\":\"\",\"symbol\":\"\"}', 'ex_token__id': 'b96c3abe-15a1-49a5-b307-0e59ce45bf73', 'ex_token__name': 'Ethereum', 'ex_token__symbol': 'ETH', 'ex_token__icon': 'https://s2.coinmarketcap.com/static/img/coins/64x64/1027.png', 'ex_token__price': 3689.93, 'offer_by_user__address': '0x3b2fcff786797c9a8fad856fa07bca948f5d7562', 'network__chain_id': 81457, 'network__name': 'Blast', 'network__icon': 'https://pbs.twimg.com/profile_images/1726739354700173312/OeT9Ef1J_400x400.jpg', 'network__id': '4754df58-0565-4982-a18e-bd883fddf949', 'network__explorer_url': 'https://blastscan.io', 'formatted_status': 'open', 'formatted_status_offer': 'open', 'equivalent_total_amount': None, 'progress': 0, 'offer_price_usd': 1.453445346343, 'offer_collateral_value': 145.3445346343}, {'id': 'df7925fc-a5f8-44ba-bd94-0f56da0fdd97', 'price': 0.000399164, 'total_amount': 10, 'value': 0.00399164, 'filled_amount': 0, 'status': 'open', 'collateral': 0.00399164, 'full_match': False, 'offer_type': 'buy', 'created_at': '2024-05-25T19:39:01.542Z', 'offer_index': 1015, 'tx_hash': '0x454fd2fcaca4b548edc26add0ee62ddb0bfe79b4cff2f3de49c58a86fd9f406b', 'token__id': '4602cc77-573d-4e86-b4f2-299718d7c091', 'token__settle_time': None, 'token__settle_duration': 86400, 'token__settle_type': 'system', 'token__address': None, 'token__decimals': None, 'token__pledge_rate': None, 'token__symbol': 'BLAST', 'token__name': 'Blast', 'token__icon': 'https://pbs.twimg.com/profile_images/1726739354700173312/OeT9Ef1J_400x400.jpg', 'token__type': 'pre_market', 'token__category': 'pre_market', 'token__status': 'active', 'token__unit': '{\"prefix_icon\":\"\",\"icon\":\"\",\"symbol\":\"\"}', 'ex_token__id': 'b96c3abe-15a1-49a5-b307-0e59ce45bf73', 'ex_token__name': 'Ethereum', 'ex_token__symbol': 'ETH', 'ex_token__icon': 'https://s2.coinmarketcap.com/static/img/coins/64x64/1027.png', 'ex_token__price': 3689.93, 'offer_by_user__address': '0xacecaadb26826fe8f9e21f3497267f92e4cb66bd', 'network__chain_id': 81457, 'network__name': 'Blast', 'network__icon': 'https://pbs.twimg.com/profile_images/1726739354700173312/OeT9Ef1J_400x400.jpg', 'network__id': '4754df58-0565-4982-a18e-bd883fddf949', 'network__explorer_url': 'https://blastscan.io', 'formatted_status': 'open', 'formatted_status_offer': 'open', 'equivalent_total_amount': None, 'progress': 0, 'offer_price_usd': 1.47288721852, 'offer_collateral_value': 14.7288721852}, {'id': '7e34b686-1574-4c17-9af2-cf1576a19361', 'price': 0.000399322737127371, 'total_amount': 369, 'value': 0.14735009, 'filled_amount': 0, 'status': 'open', 'collateral': 0.14735009, 'full_match': False, 'offer_type': 'buy', 'created_at': '2024-05-25T19:42:01.535Z', 'offer_index': 1016, 'tx_hash': '0xd51b9fdd0063835a7fc562063fcc7e89c8ab9b97f14dc678c7c1fe8e73a9bbae', 'token__id': '4602cc77-573d-4e86-b4f2-299718d7c091', 'token__settle_time': None, 'token__settle_duration': 86400, 'token__settle_type': 'system', 'token__address': None, 'token__decimals': None, 'token__pledge_rate': None, 'token__symbol': 'BLAST', 'token__name': 'Blast', 'token__icon': 'https://pbs.twimg.com/profile_images/1726739354700173312/OeT9Ef1J_400x400.jpg', 'token__type': 'pre_market', 'token__category': 'pre_market', 'token__status': 'active', 'token__unit': '{\"prefix_icon\":\"\",\"icon\":\"\",\"symbol\":\"\"}', 'ex_token__id': 'b96c3abe-15a1-49a5-b307-0e59ce45bf73', 'ex_token__name': 'Ethereum', 'ex_token__symbol': 'ETH', 'ex_token__icon': 'https://s2.coinmarketcap.com/static/img/coins/64x64/1027.png', 'ex_token__price': 3689.93, 'offer_by_user__address': '0xacecaadb26826fe8f9e21f3497267f92e4cb66bd', 'network__chain_id': 81457, 'network__name': 'Blast', 'network__icon': 'https://pbs.twimg.com/profile_images/1726739354700173312/OeT9Ef1J_400x400.jpg', 'network__id': '4754df58-0565-4982-a18e-bd883fddf949', 'network__explorer_url': 'https://blastscan.io', 'formatted_status': 'open', 'formatted_status_offer': 'open', 'equivalent_total_amount': None, 'progress': 0, 'offer_price_usd': 1.4734729474084007, 'offer_collateral_value': 543.7115175936999}, {'id': 'b7521996-d067-4685-8a4d-fc06453755bb', 'price': 0.000813435733333333, 'total_amount': 150, 'value': 0.12201536, 'filled_amount': 0, 'status': 'open', 'collateral': 0.12201536, 'full_match': False, 'offer_type': 'buy', 'created_at': '2024-06-10T03:14:01.251Z', 'offer_index': 1060, 'tx_hash': '0x7be41295daaf6292549fb5deee62c976909b43c4767b8a4e8d1ba999779a83d8', 'token__id': '4602cc77-573d-4e86-b4f2-299718d7c091', 'token__settle_time': None, 'token__settle_duration': 86400, 'token__settle_type': 'system', 'token__address': None, 'token__decimals': None, 'token__pledge_rate': None, 'token__symbol': 'BLAST', 'token__name': 'Blast', 'token__icon': 'https://pbs.twimg.com/profile_images/1726739354700173312/OeT9Ef1J_400x400.jpg', 'token__type': 'pre_market', 'token__category': 'pre_market', 'token__status': 'active', 'token__unit': '{\"prefix_icon\":\"\",\"icon\":\"\",\"symbol\":\"\"}', 'ex_token__id': 'b96c3abe-15a1-49a5-b307-0e59ce45bf73', 'ex_token__name': 'Ethereum', 'ex_token__symbol': 'ETH', 'ex_token__icon': 'https://s2.coinmarketcap.com/static/img/coins/64x64/1027.png', 'ex_token__price': 3689.93, 'offer_by_user__address': '0xaf87e2a09e3f612caff471845b0857a723e83acc', 'network__chain_id': 81457, 'network__name': 'Blast', 'network__icon': 'https://pbs.twimg.com/profile_images/1726739354700173312/OeT9Ef1J_400x400.jpg', 'network__id': '4754df58-0565-4982-a18e-bd883fddf949', 'network__explorer_url': 'https://blastscan.io', 'formatted_status': 'open', 'formatted_status_offer': 'open', 'equivalent_total_amount': None, 'progress': 0, 'offer_price_usd': 3.001520915498667, 'offer_collateral_value': 450.2281373248}], 'is_limit': False}\n"
     ]
    },
    {
     "data": {
      "text/plain": [
       "['id',\n",
       " 'price',\n",
       " 'total_amount',\n",
       " 'value',\n",
       " 'filled_amount',\n",
       " 'status',\n",
       " 'collateral',\n",
       " 'full_match',\n",
       " 'offer_type',\n",
       " 'created_at',\n",
       " 'offer_index',\n",
       " 'tx_hash',\n",
       " 'token__id',\n",
       " 'token__settle_time',\n",
       " 'token__settle_duration',\n",
       " 'token__settle_type',\n",
       " 'token__address',\n",
       " 'token__decimals',\n",
       " 'token__pledge_rate',\n",
       " 'token__symbol',\n",
       " 'token__name',\n",
       " 'token__icon',\n",
       " 'token__type',\n",
       " 'token__category',\n",
       " 'token__status',\n",
       " 'token__unit',\n",
       " 'ex_token__id',\n",
       " 'ex_token__name',\n",
       " 'ex_token__symbol',\n",
       " 'ex_token__icon',\n",
       " 'ex_token__price',\n",
       " 'offer_by_user__address',\n",
       " 'network__chain_id',\n",
       " 'network__name',\n",
       " 'network__icon',\n",
       " 'network__id',\n",
       " 'network__explorer_url',\n",
       " 'formatted_status',\n",
       " 'formatted_status_offer',\n",
       " 'equivalent_total_amount',\n",
       " 'progress',\n",
       " 'offer_price_usd',\n",
       " 'offer_collateral_value']"
      ]
     },
     "execution_count": 2,
     "metadata": {},
     "output_type": "execute_result"
    }
   ],
   "source": [
    "\n",
    "df = get_whales_pre_market_orderbook('BLAST', 'buy')\n",
    "list(df)"
   ]
  }
 ],
 "metadata": {
  "kernelspec": {
   "display_name": "Python 3",
   "language": "python",
   "name": "python3"
  },
  "language_info": {
   "codemirror_mode": {
    "name": "ipython",
    "version": 3
   },
   "file_extension": ".py",
   "mimetype": "text/x-python",
   "name": "python",
   "nbconvert_exporter": "python",
   "pygments_lexer": "ipython3",
   "version": "3.11.4"
  }
 },
 "nbformat": 4,
 "nbformat_minor": 2
}
